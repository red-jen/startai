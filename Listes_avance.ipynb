{
 "cells": [
  {
   "cell_type": "markdown",
   "id": "4b14e968",
   "metadata": {},
   "source": [
    "\n",
    "<center>\n",
    "<H1><span style=\"text-align: center; font-weight: bold; color: #746bb3ff;\">Challenges avancés sur les listes</span></H1>\n",
    "</center>"
   ]
  },
  {
   "cell_type": "markdown",
   "id": "6e737eb3",
   "metadata": {},
   "source": [
    "<H3><span style=\"font-weight: bold; color: #1a8bcdff;\">Challenge 1 :  Filtrage avancé avec fonctions</span></H3>\n",
    "\n",
    "1. <span style=\"font-weight: bold; color: #e56922ff;\">Objectif</span> : </br>\n",
    "Créer une fonction qui filtre une liste selon des critères dynamiques passés en paramètre.\n",
    "\n",
    "2. <span style=\"font-weight: bold; color: #e56922ff;\">Travail à faire</span>:</br>\n",
    "\n",
    "* Écrivez une fonction filtrer_liste qui prend en entrée une liste de nombres et une fonction de critère (fonction lambda ou définie). La fonction doit retourner une nouvelle liste contenant uniquement les éléments qui satisfont le critère. \n",
    "* Testez la fonction avec au moins deux critères différents (par exemple, \"plus grand que 10\" et \"multiple de 3\").\n",
    "* Exemple d'entrée :<code>[1, 12, 9, 15, 20, 3]</code>  avec critère <code>lambda x: x > 10</code> → Résultat : <code>[12, 15, 20]</code>.\n",
    "3. Fonctions à utiliser :\n",
    "\n",
    "* <code>filter()</code> : Pour appliquer le critère de filtrage sur la liste.\n",
    "* <code>list()</code> : Pour convertir le résultat de filter en liste."
   ]
  },
  {
   "cell_type": "code",
   "execution_count": 10,
   "id": "515f5469",
   "metadata": {},
   "outputs": [
    {
     "name": "stdout",
     "output_type": "stream",
     "text": [
      "[12, 15, 20]\n"
     ]
    }
   ],
   "source": [
    "#  Écrivez du code Python ic\n",
    "\n",
    "tar = [1, 12, 9, 15, 20, 3]\n",
    "\n",
    "def filtrer_liste(arrp,crit):\n",
    "    return list(filter(crit,arrp))\n",
    "\n",
    "\n",
    "print(filtrer_liste(tar, lambda x: x>10))\n",
    "\n",
    "\n"
   ]
  },
  {
   "cell_type": "markdown",
   "id": "cb83ba8f",
   "metadata": {},
   "source": [
    "<H3><span style=\"font-weight: bold; color: #1a8bcdff;\">Challenge 2 : Transformation Avancée de Données</span></H3>\n",
    "\n",
    "1. <span style=\"font-weight: bold; color: #e56922ff;\">Objectif</span> : </br>\n",
    " Manipuler et transformer une liste de nombres en combinant plusieurs opérations fonctionnelles.\n",
    "\n",
    "\n",
    "2. <span style=\"font-weight: bold; color: #e56922ff;\">Travail à faire</span>:</br>\n",
    "\n",
    "* Créez une liste de nombres entiers (positifs et négatifs).\n",
    "\n",
    "* Utilisez filter() pour garder uniquement les nombres positifs.\n",
    "\n",
    "* Utilisez map() pour calculer le cube de chaque nombre filtré.\n",
    "\n",
    "* Utilisez sorted() pour trier la liste des cubes en ordre décroissant.\n",
    "\n",
    "* Affichez la liste finale des valeurs transformées."
   ]
  },
  {
   "cell_type": "code",
   "execution_count": 19,
   "id": "68709f89",
   "metadata": {},
   "outputs": [
    {
     "name": "stdout",
     "output_type": "stream",
     "text": [
      "[1, 12, 9, 15, 20, 3]\n",
      "[1, 1728, 729, 3375, 8000, 27]\n",
      "[8000, 3375, 1728, 729, 27, 1]\n"
     ]
    }
   ],
   "source": [
    "#  Écrivez du code Python ici\n",
    "import math\n",
    "orp = [1, 12, 9, 15, 20, 3,-2,-7,-4,-9]\n",
    "\n",
    "pos = list(filter(lambda x: x > 0 , orp))\n",
    "# neg = list()\n",
    "\n",
    "print(pos) \n",
    "cubes = list(map(lambda x: pow( x , 3), pos))\n",
    "print(cubes)\n",
    "\n",
    "\n",
    "sort_cubes = list(sorted(cubes, reverse = True) )\n",
    "\n",
    "print(sort_cubes)\n",
    "\n",
    "\n"
   ]
  },
  {
   "cell_type": "markdown",
   "id": "9348938f",
   "metadata": {},
   "source": [
    "<H3><span style=\"font-weight: bold; color: #1a8bcdff;\">Challenge 3 : Tri personnalisé avec clé dynamique\n",
    "</span></H3>\n",
    "\n",
    "1. <span style=\"font-weight: bold; color: #e56922ff;\">Objectif</span> : </br>\n",
    "Trier une liste d'objets complexes en utilisant une fonction de clé personnalisée.\n",
    "\n",
    "2. <span style=\"font-weight: bold; color: #e56922ff;\">Travail à faire</span>:</br>\n",
    "\n",
    "* Créez une liste de dictionnaires représentant des étudiants avec les clés nom (str) et note (int). \n",
    "* Écrivez une fonction trier_etudiants qui prend la liste et une fonction de clé (par exemple, lambda x: x['note'] pour trier par note). La fonction doit retourner la liste triée, avec une option pour tri croissant ou décroissant (via un paramètre reverse).  \n",
    "* Testez avec une liste d'au moins 5 étudiants et deux critères de tri.\n",
    "* Exemple d'entrée : <code>[{'nom': 'Alice', 'note': 85}, {'nom': 'Bob', 'note': 92}]</code> trié par note décroissante → Résultat : <code>[{'nom': 'Bob', 'note': 92}, {'nom': 'Alice', 'note': 85}]</code>.\n",
    "3. Fonctions à utiliser :\n",
    "* <code>sorted()</code> : Pour trier la liste avec une clé personnalisée.\n",
    "* <code>lambda</code> : Pour définir les fonctions de clé dynamiques."
   ]
  },
  {
   "cell_type": "code",
   "execution_count": 32,
   "id": "341dbff4",
   "metadata": {},
   "outputs": [
    {
     "name": "stdout",
     "output_type": "stream",
     "text": [
      "[{'nom': 'Alice', 'note': 85}, {'nom': 'Bob', 'note': 92}]\n"
     ]
    }
   ],
   "source": [
    "#  Écrivez du code Python ici\n",
    "tar = [{'nom': 'Alice', 'note': 85}, {'nom': 'Bob', 'note': 92}]\n",
    "\n",
    "def trier_etudiants(bef , crit, reversed : bool):\n",
    "    gol = list(sorted(bef , key=crit ,reverse=reversed))\n",
    "    return gol    \n",
    "\n",
    "print(trier_etudiants(tar,lambda x: x['note'],False))"
   ]
  },
  {
   "cell_type": "markdown",
   "id": "12a40e48",
   "metadata": {},
   "source": [
    "<H3><span style=\"font-weight: bold; color: #1a8bcdff;\">Challenge 4 : Fusion intelligente de listes</span></H3>\n",
    "\n",
    "1. <span style=\"font-weight: bold; color: #e56922ff;\">Objectif</span> : </br>\n",
    "Fusionner deux listes en éliminant les doublons et en respectant un ordre spécifique.\n",
    "2. <span style=\"font-weight: bold; color: #e56922ff;\">Travail à faire</span>:</br>\n",
    "\n",
    "* Écrivez une fonction fusionner_listes qui prend deux listes de nombres et une fonction de tri (par exemple, lambda x: x pour tri croissant). \n",
    "* La fonction doit fusionner les deux listes, supprimer les doublons, et retourner une liste triée selon la fonction de tri fournie. \n",
    "*  Testez avec deux listes contenant des doublons et deux fonctions de tri différentes.\n",
    "* Exemple d'entrée : <code>liste1 = [1, 3, 5, 3]</code>, <code>liste2 = [2, 3, 4, 5]</code>, tri croissant → Résultat : <code>[1, 2, 3, 4, 5]</code>.\n",
    "3. Fonctions à utiliser :\n",
    "\n",
    "* extend() : Pour ajouter les éléments d'une liste à une autre.\n",
    "* set() : Pour supprimer les doublons.\n",
    "* sorted() : Pour trier la liste fusionnée."
   ]
  },
  {
   "cell_type": "code",
   "execution_count": 45,
   "id": "a8fb6e19",
   "metadata": {},
   "outputs": [
    {
     "name": "stdout",
     "output_type": "stream",
     "text": [
      "[1, 2, 3, 4, 5]\n",
      "[5, 4, 3, 2, 1]\n"
     ]
    }
   ],
   "source": [
    "#  Écrivez du code Python ici\n",
    "# liste1 = [1, 3, 5, 3]\n",
    "# liste2 = [2, 3, 4, 5]\n",
    "# # liste1.extend(liste2)\n",
    "# # print(liste1)\n",
    "# def fusionner_listes(list1,list2,crit):\n",
    "#     list1.extend(list2)\n",
    "#     list1.set()\n",
    "#     sorted(list1, reverse=crit)\n",
    "\n",
    "#     return list1\n",
    "\n",
    "# print(fusionner_listes(liste1,liste2,True))\n",
    "\n",
    "liste1 = [1, 3, 5, 3]\n",
    "liste2 = [2, 3, 4, 5]\n",
    "\n",
    "def fusionner_listes(list1, list2, crit):\n",
    "    list1.extend(list2)\n",
    "    fusion_sans_doublons = list(set(list1))\n",
    "    fusion_triee = sorted(fusion_sans_doublons, key=crit)\n",
    "    return fusion_triee\n",
    "\n",
    "# Tri croissant\n",
    "print(fusionner_listes(liste1, liste2, lambda x: x))  # [1, 2, 3, 4, 5]\n",
    "# Tri décroissant\n",
    "print(fusionner_listes(liste1, liste2, lambda x: -x))  # [5, 4, 3, 2, 1]"
   ]
  },
  {
   "cell_type": "markdown",
   "id": "dd1e329d",
   "metadata": {},
   "source": [
    "<H3><span style=\"font-weight: bold; color: #1a8bcdff;\">Challenge 5 : Partitionnement de liste</span></H3>\n",
    "\n",
    "1. <span style=\"font-weight: bold; color: #e56922ff;\">Objectif</span> : </br>\n",
    "Diviser une liste en sous-listes selon un critère dynamique.\n",
    "2. <span style=\"font-weight: bold; color: #e56922ff;\">Travail à faire</span>:</br>\n",
    "\n",
    "* Écrivez une fonction partitionner_liste qui prend une liste et une fonction de critère (par exemple, lambda x: x % 2 == 0 pour séparer pairs et impairs). \n",
    "* La fonction doit retourner un tuple contenant deux listes : une pour les éléments qui satisfont le critère et une pour ceux qui ne le satisfont pas. \n",
    "* Testez avec deux critères différents (par exemple, \"pair/impair\" et \"positif/négatif\").\n",
    "* Exemple d'entrée : <code>[1, 2, 3, 4, 5, 6]</code> avec critère <code>ambda x: x % 2 == 0</code>l → Résultat : <code>([2, 4, 6], [1, 3, 5])</code>.\n",
    "3. Fonctions à utiliser :\n",
    "\n",
    "* <code>filter()</code> : Pour séparer les éléments selon le critère.\n",
    "* <code>list()</code> : Pour convertir les résultats de filter en listes.\n",
    "* <code>append()</code> : Pour construire les deux listes si vous utilisez une boucle."
   ]
  },
  {
   "cell_type": "code",
   "execution_count": null,
   "id": "843cd03c",
   "metadata": {},
   "outputs": [
    {
     "name": "stdout",
     "output_type": "stream",
     "text": [
      "([2, 4, 6], [1, 2, 3, 4, 5, 6])\n"
     ]
    }
   ],
   "source": [
    "#  Écrivez du code Python ici\n",
    "arr = [1, 2, 3, 4, 5, 6]\n",
    "def partitionner_liste(liste , crit):\n",
    "    \n",
    "        arr1 = list(filter(crit , liste))\n",
    "        arr2 = list(filter(lambda x: not crit(x), liste))\n",
    "        return (arr1,liste)\n",
    "        \n",
    "print(partitionner_liste(arr, lambda x: x%2 == 0))        \n",
    "\n",
    "    \n"
   ]
  },
  {
   "cell_type": "code",
   "execution_count": 9,
   "id": "3834b0b5",
   "metadata": {},
   "outputs": [
    {
     "data": {
      "text/plain": [
       "([2, 4, 6], [1, 3, 5])"
      ]
     },
     "execution_count": 9,
     "metadata": {},
     "output_type": "execute_result"
    }
   ],
   "source": [
    "arr = [1, 2, 3, 4, 5, 6]\n",
    "\n",
    "def partitionner_list(arr , crit):\n",
    "    arr1 = list(filter(crit , arr))\n",
    "    arr2 = list(filter(lambda k: not crit(k) ,arr )  )\n",
    "    return (arr1 , arr2)\n",
    "partitionner_list( arr, lambda x: x % 2 == 0)"
   ]
  },
  {
   "cell_type": "markdown",
   "id": "24d606ac",
   "metadata": {},
   "source": [
    "<H3><span style=\"font-weight: bold; color: #1a8bcdff;\">Challenge 6 : Réduction avec accumulation personnalisée</span></H3>\n",
    "\n",
    "1. <span style=\"font-weight: bold; color: #e56922ff;\">Objectif</span> : </br>\n",
    "Appliquer une opération personnalisée pour réduire une liste à une seule valeur.\n",
    "\n",
    "2. <span style=\"font-weight: bold; color: #e56922ff;\">Travail à faire</span>:</br>\n",
    "\n",
    "* Écrivez une fonction reduire_liste qui prend une liste de nombres, une fonction d'opération (par exemple, lambda x, y: x + y pour une somme), et une valeur initiale. \n",
    "* La fonction doit appliquer l'opération sur les éléments pour produire une seule valeur, sans utiliser functools.reduce. \n",
    "* Testez avec deux opérations différentes (par exemple, somme et produit).\n",
    "* Exemple d'entrée : <code>[1, 2, 3, 4]</code> avec <code>lambda x, y: x + y</code> et valeur initiale 0 → Résultat : 10.\n",
    "3. Fonctions à utiliser :\n",
    "\n",
    "* <code>lambda</code> : Pour définir l'opération personnalisée.\n",
    "* Boucle avec accumulation (pas de fonction intégrée comme reduce, car interdit dans l'énoncé)."
   ]
  },
  {
   "cell_type": "code",
   "execution_count": null,
   "id": "82356076",
   "metadata": {},
   "outputs": [],
   "source": [
    "def reduire() "
   ]
  },
  {
   "cell_type": "code",
   "execution_count": 4,
   "id": "9c0d3355",
   "metadata": {},
   "outputs": [
    {
     "name": "stdout",
     "output_type": "stream",
     "text": [
      "10\n"
     ]
    }
   ],
   "source": [
    "#  Écrivez du code Python ici\n",
    "\n",
    "arrli = [1, 2, 3, 4]\n",
    "def reduire_liste(arr,crit,ini):\n",
    "    # ini\n",
    "    for i in arr :\n",
    "        ini = crit(ini,i)\n",
    "    return ini\n",
    "print(reduire_liste(arrli,lambda x,y: x+y,0))"
   ]
  },
  {
   "cell_type": "markdown",
   "id": "7d7b7f8a",
   "metadata": {},
   "source": [
    "<H3><span style=\"font-weight: bold; color: #1a8bcdff;\">Challenge 7 : Transformation imbriquée</span></H3>\n",
    "\n",
    "1. <span style=\"font-weight: bold; color: #e56922ff;\">Objectif</span> : </br>\n",
    "Transformer une liste imbriquée avec une fonction récursive.\n",
    "\n",
    "2. <span style=\"font-weight: bold; color: #e56922ff;\">Travail à faire</span>:</br>\n",
    "\n",
    "* Écrivez une fonction transformer_imbriquee qui prend une liste potentiellement imbriquée (contenant des nombres ou des listes) et une fonction de transformation (par exemple, lambda x: x * 2 pour doubler chaque nombre). \n",
    "* La fonction doit appliquer la transformation à chaque nombre, en préservant la structure imbriquée. \n",
    "* Testez avec une liste contenant au moins deux niveaux d'imbrication et deux fonctions de transformation.\n",
    "* Exemple d'entrée : <code>[1, [2, 3, [4, 5]], 6]</code> avec <code>lambda x: x * 2 </code>→ Résultat : <code>[2, [4, 6, [8, 10]], 12]</code>.\n",
    "3. Fonctions à utiliser :\n",
    "\n",
    "<code>map()</code> : Pour appliquer la transformation aux éléments non imbriqués.\n",
    "<code>isinstance()</code> : Pour vérifier si un élément est une liste (pour la récursivité).\n",
    "<code>list()</code> : Pour convertir les résultats de map en listes."
   ]
  },
  {
   "cell_type": "code",
   "execution_count": 5,
   "id": "0d08089b",
   "metadata": {},
   "outputs": [
    {
     "name": "stdout",
     "output_type": "stream",
     "text": [
      "[2, [4, 6, [8, 10]], 12]\n"
     ]
    }
   ],
   "source": [
    "#  Écrivez du code Python ici\n",
    "def transformer_imbriquee(liste, f):\n",
    "    return [transformer_imbriquee(x, f) if isinstance(x, list) else f(x) for x in liste]\n",
    "\n",
    "lst = [1, [2, 3, [4, 5]], 6]\n",
    "print(transformer_imbriquee(lst, lambda x: x * 2))\n",
    "# Output: [2, [4, 6, [8, 10]], 12]"
   ]
  }
 ],
 "metadata": {
  "kernelspec": {
   "display_name": "Python 3",
   "language": "python",
   "name": "python3"
  },
  "language_info": {
   "codemirror_mode": {
    "name": "ipython",
    "version": 3
   },
   "file_extension": ".py",
   "mimetype": "text/x-python",
   "name": "python",
   "nbconvert_exporter": "python",
   "pygments_lexer": "ipython3",
   "version": "3.13.7"
  }
 },
 "nbformat": 4,
 "nbformat_minor": 5
}
